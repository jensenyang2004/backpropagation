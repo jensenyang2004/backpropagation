{
 "cells": [
  {
   "cell_type": "code",
   "execution_count": 3,
   "id": "ed70815c",
   "metadata": {},
   "outputs": [],
   "source": [
    "import numpy as np\n",
    "import pandas as pd\n",
    "from keras.utils import np_utils\n",
    "np.random.seed(10)"
   ]
  },
  {
   "cell_type": "code",
   "execution_count": 4,
   "id": "f6954466",
   "metadata": {},
   "outputs": [],
   "source": [
    "from keras.datasets import mnist"
   ]
  },
  {
   "cell_type": "code",
   "execution_count": 5,
   "id": "9c84975d",
   "metadata": {},
   "outputs": [],
   "source": [
    "(X_train_image, y_train_label),\\\n",
    "(X_test_image, y_test_label) = mnist.load_data()"
   ]
  },
  {
   "cell_type": "code",
   "execution_count": 6,
   "id": "d268959b",
   "metadata": {},
   "outputs": [],
   "source": [
    "import matplotlib.pyplot as plt\n",
    "def plot_image(image):\n",
    "    fig = plt.gcf()\n",
    "    fig.set_size_inches(2,2)\n",
    "    plt.imshow(image,cmap='binary')\n",
    "    plt.show()"
   ]
  },
  {
   "cell_type": "code",
   "execution_count": 7,
   "id": "84101016",
   "metadata": {},
   "outputs": [],
   "source": [
    "x_Train = X_train_image.reshape(60000,784).astype('float32')\n",
    "x_Test = X_test_image.reshape(10000,784).astype('float32')"
   ]
  },
  {
   "cell_type": "code",
   "execution_count": 8,
   "id": "16720ca8",
   "metadata": {},
   "outputs": [],
   "source": [
    "x_Train_normalized = x_Train/225\n",
    "x_Test_normalized = x_Test/225"
   ]
  },
  {
   "cell_type": "code",
   "execution_count": 9,
   "id": "46ae0494",
   "metadata": {},
   "outputs": [],
   "source": [
    "y_TrainOneHot = np_utils.to_categorical(y_train_label)\n",
    "y_TestOneHot = np_utils.to_categorical(y_test_label)"
   ]
  },
  {
   "cell_type": "code",
   "execution_count": 10,
   "id": "10aefd2a",
   "metadata": {},
   "outputs": [],
   "source": [
    "import numpy as np\n",
    "import copy\n",
    "class ann:\n",
    "    def __init__(self,layers):\n",
    "        self.layers = layers\n",
    "        self.nums = len(layers)\n",
    "        self.result = []\n",
    "        self.weight = [np.random.randn(x,y) for x,y in zip(layers[1:],layers)]\n",
    "        self.bias = [np.random.randn(p) for p in layers[1:]]\n",
    "        self.loss = []\n",
    "        self.data_a = [np.ones((self.nums,x)) for x in layers]\n",
    "        self.data_z = [np.ones((self.nums-1,x)) for x in layers[1:]]\n",
    "    def feedforward(self,input_):\n",
    "        self.data_a[0] = input_\n",
    "        for i in range (self.nums-1): \n",
    "            z = np.matmul(self.weight[i],self.data_a[i])\n",
    "            z += self.bias[i]\n",
    "            temp = copy.copy(z)\n",
    "            self.data_z[i] = temp\n",
    "            z = sigmoid(z)\n",
    "            self.data_a[i+1] = z\n",
    "        self.result = self.data_a[self.nums-1]\n",
    "    def backpropagation(self,correction,learning_rate):\n",
    "        C0_deri = (self.result-correction)*2\n",
    "        C0_deri = np.array(C0_deri)\n",
    "        #self.loss.append(loss(self.result,correction))\n",
    "        for i in range(self.nums-2,-1,-1):\n",
    "            #step 1: sigmoid derivative\n",
    "            sigmoid = np.array(sigmoid_der(self.data_z[i]),dtype='float64')\n",
    "            #step 2: weight derivative\n",
    "            #dC0/da*da/dz\n",
    "            sigmoid = sigmoid*C0_deri\n",
    "            #derivative of a\n",
    "            temp = np.array([sigmoid])\n",
    "            C0_deri = np.matmul(self.weight[i].T,sigmoid)\n",
    "            weight = np.matmul(np.transpose(temp),np.array([self.data_a[i]]))\n",
    "            self.learning(i,np.array(weight),np.array(sigmoid),learning_rate,correction)\n",
    "    def learning(self,i,weight,bias,learning_rate,correction):\n",
    "        n = -1*learning_rate\n",
    "        delta_bias = n*bias\n",
    "        delta_weight = n*weight\n",
    "        self.weight[i]+=delta_weight\n",
    "        self.bias[i]+=delta_bias\n",
    "def sigmoid(z):\n",
    "    return 1.0/(1.0+np.exp(-1*z))\n",
    "def sigmoid_der(z):\n",
    "    a = sigmoid(z)\n",
    "    return a*(1-a)\n",
    "def loss(result,correction):\n",
    "    a = 0;\n",
    "    for i in range(len(result)):\n",
    "        temp = result[i]-correction[i]\n",
    "        a+=pow(temp,2)\n",
    "    return a\n",
    "#network = ann([784,30,10])\n",
    "network = ann([784,16,16,10])\n",
    "a = []\n",
    "for i in range(60000):\n",
    "    a.append(i)"
   ]
  },
  {
   "cell_type": "code",
   "execution_count": 11,
   "id": "8a4caf4f",
   "metadata": {
    "scrolled": true
   },
   "outputs": [
    {
     "name": "stdout",
     "output_type": "stream",
     "text": [
      "test  1\n",
      "train result  27609 / 60000\n",
      "test result  6723 / 10000\n",
      "test  2\n",
      "train result  44528 / 60000\n",
      "test result  8026 / 10000\n",
      "test  3\n",
      "train result  49043 / 60000\n",
      "test result  8482 / 10000\n",
      "test  4\n",
      "train result  51140 / 60000\n",
      "test result  8698 / 10000\n",
      "test  5\n",
      "train result  52243 / 60000\n",
      "test result  8832 / 10000\n",
      "test  6\n",
      "train result  52907 / 60000\n",
      "test result  8926 / 10000\n",
      "test  7\n",
      "train result  53375 / 60000\n",
      "test result  8972 / 10000\n",
      "test  8\n",
      "train result  53774 / 60000\n",
      "test result  9007 / 10000\n",
      "test  9\n",
      "train result  54081 / 60000\n",
      "test result  9048 / 10000\n",
      "test  10\n",
      "train result  54266 / 60000\n",
      "test result  9074 / 10000\n",
      "test  11\n",
      "train result  54457 / 60000\n",
      "test result  9108 / 10000\n",
      "test  12\n",
      "train result  54652 / 60000\n",
      "test result  9129 / 10000\n",
      "test  13\n",
      "train result  54823 / 60000\n",
      "test result  9135 / 10000\n",
      "test  14\n",
      "train result  54950 / 60000\n",
      "test result  9129 / 10000\n",
      "test  15\n",
      "train result  55075 / 60000\n",
      "test result  9142 / 10000\n",
      "test  16\n",
      "train result  55162 / 60000\n",
      "test result  9171 / 10000\n",
      "test  17\n",
      "train result  55298 / 60000\n",
      "test result  9170 / 10000\n",
      "test  18\n",
      "train result  55400 / 60000\n",
      "test result  9177 / 10000\n",
      "test  19\n",
      "train result  55467 / 60000\n",
      "test result  9190 / 10000\n",
      "test  20\n",
      "train result  55517 / 60000\n",
      "test result  9191 / 10000\n"
     ]
    }
   ],
   "source": [
    "import random\n",
    "for j in range(20):\n",
    "    random.shuffle(a)\n",
    "    sum=0\n",
    "    for i in a:\n",
    "        network.feedforward(x_Train_normalized[i])\n",
    "        index = np.argmax(network.result)\n",
    "        if(index==y_train_label[i]):\n",
    "            sum+=1\n",
    "        network.backpropagation(y_TrainOneHot[i],0.01)\n",
    "    print(\"test \",j+1)\n",
    "    print('train result ',sum,'/',60000)\n",
    "    sum = 0\n",
    "    for i in range(10000):\n",
    "        network.feedforward(x_Test_normalized[i])\n",
    "        ans = max(network.result)\n",
    "        index = np.argmax(network.result)\n",
    "        if(index==y_test_label[i]):\n",
    "            sum+=1        \n",
    "    print('test result ',sum,'/',10000)"
   ]
  },
  {
   "cell_type": "code",
   "execution_count": 45,
   "id": "f6e2027c",
   "metadata": {},
   "outputs": [],
   "source": [
    "network.loss.clear()"
   ]
  },
  {
   "cell_type": "code",
   "execution_count": null,
   "id": "df420eda",
   "metadata": {},
   "outputs": [],
   "source": []
  }
 ],
 "metadata": {
  "kernelspec": {
   "display_name": "Python 3 (ipykernel)",
   "language": "python",
   "name": "python3"
  },
  "language_info": {
   "codemirror_mode": {
    "name": "ipython",
    "version": 3
   },
   "file_extension": ".py",
   "mimetype": "text/x-python",
   "name": "python",
   "nbconvert_exporter": "python",
   "pygments_lexer": "ipython3",
   "version": "3.9.6"
  }
 },
 "nbformat": 4,
 "nbformat_minor": 5
}
